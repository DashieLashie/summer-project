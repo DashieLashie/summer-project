{
 "cells": [
  {
   "cell_type": "code",
   "id": "b2bb2b67-b5e8-4399-a3f3-81f43383623a",
   "metadata": {},
   "source": [
    "import pandas as pd\n",
    "import numpy as np"
   ],
   "outputs": [],
   "execution_count": null
  },
  {
   "cell_type": "code",
   "id": "9834d1d7-82f3-494c-abe0-208decdc7dff",
   "metadata": {},
   "source": [
    "tweets =  pd.read_parquet(\"merged_stock_tweet.parquet\")\n",
    "tweets"
   ],
   "outputs": [],
   "execution_count": null
  },
  {
   "cell_type": "code",
   "id": "64485605-54f4-4ad0-9d55-6f25f057b526",
   "metadata": {},
   "source": [
    "prices =  pd.read_parquet(\"stock_prices.parquet\")\n",
    "prices"
   ],
   "outputs": [],
   "execution_count": null
  },
  {
   "cell_type": "code",
   "id": "b5d17063-a7be-46e9-b05f-13d5a3b2ebfc",
   "metadata": {},
   "source": [
    "tweets[\"date\"] = pd.to_datetime(tweets[\"date\"])\n",
    "prices[\"Date\"] = pd.to_datetime(prices[\"Date\"])"
   ],
   "outputs": [],
   "execution_count": null
  },
  {
   "cell_type": "code",
   "id": "7a6ad1cb-c18b-4bea-b137-fffbb688f2e2",
   "metadata": {},
   "source": [
    "model1_merged_dataset = pd.merge(\n",
    "    prices,\n",
    "    tweets,\n",
    "    how=\"inner\",\n",
    "    left_on=[\"Date\", \"Ticker\"],\n",
    "    right_on=[\"date\", \"ticker\"]\n",
    ")"
   ],
   "outputs": [],
   "execution_count": null
  },
  {
   "cell_type": "code",
   "id": "bc3642d6-f7d3-4664-9f10-6533a6363440",
   "metadata": {},
   "source": [
    "model1_merged_dataset"
   ],
   "outputs": [],
   "execution_count": null
  },
  {
   "cell_type": "code",
   "id": "e782c95d-a5fa-4434-9705-fa3193f29fd4",
   "metadata": {},
   "source": [
    "model1_merged_dataset=model1_merged_dataset.drop(columns=['Open','High','Low','Adj Close','Volume',\"date\",\"ticker\"])\n",
    "model1_merged_dataset.set_index(\"Date\", inplace=True)"
   ],
   "outputs": [],
   "execution_count": null
  },
  {
   "cell_type": "code",
   "id": "ba423f25-c473-4207-98f0-beb8759c9e25",
   "metadata": {},
   "source": [
    "model1_merged_dataset"
   ],
   "outputs": [],
   "execution_count": null
  },
  {
   "cell_type": "code",
   "id": "f0fd8c8a-9ebe-486f-aed9-cee66abac992",
   "metadata": {},
   "source": [
    "AAPL_dataset = model1_merged_dataset[model1_merged_dataset[\"Ticker\"] == \"AAPL\"]"
   ],
   "outputs": [],
   "execution_count": null
  },
  {
   "cell_type": "code",
   "id": "4ca11fe5-8710-4c8d-8c51-d0fc2d20f41b",
   "metadata": {},
   "source": [
    "AAPL_dataset = AAPL_dataset.drop(columns=[\"Ticker\"])"
   ],
   "outputs": [],
   "execution_count": null
  },
  {
   "cell_type": "code",
   "id": "95abe3f3-a191-424a-af3d-6026a8431a3d",
   "metadata": {},
   "source": [
    "AAPL_dataset"
   ],
   "outputs": [],
   "execution_count": null
  },
  {
   "cell_type": "code",
   "id": "90cbc376-0b2a-4727-8d16-ff882b58935d",
   "metadata": {},
   "source": [
    "AAPL_dataset[\"Price Difference\"]=AAPL_dataset[\"Close\"].diff()\n",
    "AAPL_dataset"
   ],
   "outputs": [],
   "execution_count": null
  },
  {
   "cell_type": "code",
   "id": "c95af9b4-fb6b-42f7-a741-9fd524df4cb1",
   "metadata": {},
   "source": [
    "AAPL_dataset.dropna(inplace=True)\n",
    "AAPL_dataset[ \"Movement\" ]= np.where (AAPL_dataset[\"Price Difference\"] > 0, 1, 0)\n",
    "AAPL_final_dataset=AAPL_dataset.drop(columns=['Close','Price Difference'])\n",
    "AAPL_final_dataset"
   ],
   "outputs": [],
   "execution_count": null
  },
  {
   "cell_type": "code",
   "id": "c32dac1a-e3a0-442b-b6eb-551030fb1586",
   "metadata": {},
   "source": [
    "AAPL_final_dataset.to_parquet(\"AAPL_final_dataset.parquet\", index=False)"
   ],
   "outputs": [],
   "execution_count": null
  }
 ],
 "metadata": {
  "kernelspec": {
   "display_name": "Python [conda env:base] *",
   "language": "python",
   "name": "conda-base-py"
  },
  "language_info": {
   "codemirror_mode": {
    "name": "ipython",
    "version": 3
   },
   "file_extension": ".py",
   "mimetype": "text/x-python",
   "name": "python",
   "nbconvert_exporter": "python",
   "pygments_lexer": "ipython3",
   "version": "3.10.13"
  }
 },
 "nbformat": 4,
 "nbformat_minor": 5
}
