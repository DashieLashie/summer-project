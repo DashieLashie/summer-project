{
 "cells": [
  {
   "cell_type": "code",
   "id": "97552f6b-07bf-4e50-85fa-9d5326ee29b5",
   "metadata": {},
   "source": [
    "import pandas as pd\n",
    "import numpy as np\n",
    "import matplotlib.pyplot as plt\n",
    "import seaborn as sns\n",
    "from wordcloud import WordCloud\n",
    "import re"
   ],
   "outputs": [],
   "execution_count": null
  },
  {
   "cell_type": "code",
   "id": "a898ff6e-43ac-4c93-b702-6061e9dcfcb1",
   "metadata": {},
   "source": [
    "tweet_df = pd.read_parquet(\"stocknet/stock_tweets.parquet\")\n",
    "tweet_df"
   ],
   "outputs": [],
   "execution_count": null
  },
  {
   "cell_type": "code",
   "id": "34fc3bd0-93b1-4388-80a5-f3812ba14e30",
   "metadata": {},
   "source": [
    "stock_table = pd.read_parquet(\"stocknet/stock_table.parquet\")\n",
    "stock_table"
   ],
   "outputs": [],
   "execution_count": null
  },
  {
   "cell_type": "code",
   "id": "3ed34cd1-ad0b-4020-bae0-dbe8e71b2a1c",
   "metadata": {},
   "source": [
    "stock_price = pd.read_parquet(\"stocknet/stock_prices.parquet\")\n",
    "stock_price"
   ],
   "outputs": [],
   "execution_count": null
  },
  {
   "cell_type": "code",
   "id": "9fe353bd-d2bb-4a98-9974-ee1b389e148a",
   "metadata": {},
   "source": [
    "#(2892, 3)\n",
    "\n",
    "tweet_df.shape"
   ],
   "outputs": [],
   "execution_count": null
  },
  {
   "cell_type": "code",
   "id": "ef295d3d-3977-4118-94c7-a44c0334fb40",
   "metadata": {},
   "source": [
    "merged_twitter_df = tweet_df.groupby(\n",
    "    [\"date\", \"ticker\"], \n",
    "    as_index=False\n",
    ").agg({\n",
    "    \"text\": lambda x: \" \".join(x)\n",
    "})"
   ],
   "outputs": [],
   "execution_count": null
  },
  {
   "cell_type": "code",
   "id": "70eb09aa-a297-4c73-9547-e95beac2f0c0",
   "metadata": {},
   "source": [
    "merged_twitter_df"
   ],
   "outputs": [],
   "execution_count": null
  },
  {
   "cell_type": "code",
   "id": "3be8bea1-31ea-4ecc-99bf-b1f2eb2b745c",
   "metadata": {},
   "source": [
    "tweets_word_cloud = WordCloud(background_color = 'white', width = 1000, height = 1000).generate(str(merged_twitter_df['text']))\n",
    "plt.figure(figsize=(10,10))\n",
    "plt.imshow(tweets_word_cloud)\n",
    "plt.axis('off')\n",
    "plt.title('Tweets Word Cloud of ALL stocks')\n",
    "plt.show()"
   ],
   "outputs": [],
   "execution_count": null
  },
  {
   "cell_type": "code",
   "id": "b433b28b-270b-4905-acea-9e4823ca78e4",
   "metadata": {},
   "source": [
    "for i in range(len(merged_twitter_df[\"text\"])):\n",
    "        more_patterns = re.compile('(\\s*)({})(\\s*)|(\\s*)ATUSER(\\s*)|(\\s*)AT_USER(\\s*)|(\\s*)URL(\\s*)|(\\s*)rt(\\s*)|(\\s*)inc(\\s*)|(\\s*)ie(\\s*)'.format(merged_twitter_df[\"ticker\"][i]),flags=re.IGNORECASE)\n",
    "        merged_twitter_df[\"text\"][i] = more_patterns.sub('', merged_twitter_df[\"text\"][i])"
   ],
   "outputs": [],
   "execution_count": null
  },
  {
   "cell_type": "code",
   "id": "d284fab7-5154-4c3b-aac8-8c8dd982face",
   "metadata": {},
   "source": [
    "tweets_word_cloud = WordCloud(background_color = 'white', width = 1000, height = 1000).generate(str(merged_twitter_df['text']))\n",
    "plt.figure(figsize=(10,10))\n",
    "plt.imshow(tweets_word_cloud)\n",
    "plt.axis('off')\n",
    "plt.title('Tweets Word Cloud of ALL stocks')\n",
    "plt.show()"
   ],
   "outputs": [],
   "execution_count": null
  },
  {
   "cell_type": "code",
   "id": "12881a98-36f0-4e7b-add7-7cf60e100ff7",
   "metadata": {},
   "source": [
    "merged_twitter_df.to_parquet(\"stocknet/merged_stock_tweet.parquet\", index=False)"
   ],
   "outputs": [],
   "execution_count": null
  }
 ],
 "metadata": {
  "kernelspec": {
   "display_name": "Python [conda env:base] *",
   "language": "python",
   "name": "conda-base-py"
  },
  "language_info": {
   "codemirror_mode": {
    "name": "ipython",
    "version": 3
   },
   "file_extension": ".py",
   "mimetype": "text/x-python",
   "name": "python",
   "nbconvert_exporter": "python",
   "pygments_lexer": "ipython3",
   "version": "3.10.13"
  }
 },
 "nbformat": 4,
 "nbformat_minor": 5
}
