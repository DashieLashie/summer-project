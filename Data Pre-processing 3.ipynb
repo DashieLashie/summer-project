{
 "cells": [
  {
   "cell_type": "code",
   "id": "910d9e2d-08cc-408a-a890-e55f6ad2605f",
   "metadata": {},
   "source": [
    "import pandas as pd\n",
    "import numpy as np\n",
    "import re"
   ],
   "outputs": [],
   "execution_count": null
  },
  {
   "cell_type": "code",
   "id": "ba730457-de61-4494-a2cd-c410204a1da9",
   "metadata": {},
   "source": [
    "tweet_df = pd.read_parquet(\"stock_tweets.parquet\")\n",
    "tweet_df"
   ],
   "outputs": [],
   "execution_count": null
  },
  {
   "cell_type": "code",
   "id": "5587a0db-e382-4811-aade-497262f0738a",
   "metadata": {},
   "source": [
    "for i in range(len(tweet_df[\"text\"])):\n",
    "        more_patterns = re.compile('(\\s*)({})(\\s*)|(\\s*)ATUSER(\\s*)|(\\s*)AT_USER(\\s*)|(\\s*)URL(\\s*)|(\\s*)rt(\\s*)|(\\s*)inc(\\s*)|(\\s*)ie(\\s*)'.format(tweet_df[\"ticker\"][i]),flags=re.IGNORECASE)\n",
    "        tweet_df[\"text\"][i] = more_patterns.sub('', tweet_df[\"text\"][i])"
   ],
   "outputs": [],
   "execution_count": null
  },
  {
   "cell_type": "code",
   "id": "2ef7a24d-9438-4126-8eed-cc7d1f22b057",
   "metadata": {},
   "source": [
    "tweet_df"
   ],
   "outputs": [],
   "execution_count": null
  },
  {
   "cell_type": "code",
   "id": "d5da2771-b1ed-4a3d-b812-7111edb446c0",
   "metadata": {},
   "source": [
    "tweet_df.to_parquet(\"stock_tweet_no_merge.parquet\", index=False)"
   ],
   "outputs": [],
   "execution_count": null
  }
 ],
 "metadata": {
  "kernelspec": {
   "display_name": "Python [conda env:base] *",
   "language": "python",
   "name": "conda-base-py"
  },
  "language_info": {
   "codemirror_mode": {
    "name": "ipython",
    "version": 3
   },
   "file_extension": ".py",
   "mimetype": "text/x-python",
   "name": "python",
   "nbconvert_exporter": "python",
   "pygments_lexer": "ipython3",
   "version": "3.10.13"
  }
 },
 "nbformat": 4,
 "nbformat_minor": 5
}
