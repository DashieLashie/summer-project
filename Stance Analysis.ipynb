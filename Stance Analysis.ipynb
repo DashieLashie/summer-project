{
 "cells": [
  {
   "cell_type": "code",
   "id": "477c9bc4-65b8-4c08-b473-28547f9feb6b",
   "metadata": {},
   "source": [
    "import json\n",
    "import time\n",
    "from typing import Dict, List, Optional\n",
    "from dataclasses import dataclass\n",
    "from openai import OpenAI\n",
    "import os\n",
    "import pandas as pd\n",
    "from tqdm.notebook import tqdm\n",
    "tqdm.pandas()\n"
   ],
   "outputs": [],
   "execution_count": null
  },
  {
   "cell_type": "code",
   "id": "b378a444-01ca-4cdd-883c-5faf7379ba2d",
   "metadata": {},
   "source": [
    "@dataclass\n",
    "class ExpertAnalysis:\n",
    "    expert_role: str\n",
    "    analysis: str\n",
    "    bullish_score: float\n",
    "    confidence: float"
   ],
   "outputs": [],
   "execution_count": null
  },
  {
   "cell_type": "code",
   "id": "41ddd7dc-4757-4db7-a8c6-5968c58076d0",
   "metadata": {},
   "source": [
    "@dataclass\n",
    "class TweetAnalysisResult:\n",
    "    tweet_text: str\n",
    "    company: str\n",
    "    expert_analyses: List[ExpertAnalysis]\n",
    "    final_judgment: str\n",
    "    final_bullish_score: float\n",
    "    reasoning: str"
   ],
   "outputs": [],
   "execution_count": null
  },
  {
   "cell_type": "code",
   "id": "82632d57-4e85-47f6-b9f0-6b0c68b5e9ab",
   "metadata": {},
   "source": [
    "class TweetAnalysisPipeline:\n",
    "    def __init__(self, api_key: str, model: str = \"gpt-4\"):\n",
    "\n",
    "        self.client = OpenAI(base_url=\"http://api.llm.apps.os.dcs.gla.ac.uk/v1\", api_key=os.environ['IDA_LLM_API_KEY'])\n",
    "        self.model = model\n",
    "        \n",
    "        # Define expert roles and their focus areas\n",
    "        self.expert_roles = {\n",
    "            \"Technical Analyst\": \"Focus on chart patterns, technical indicators, and market momentum signals\",\n",
    "            \"Fundamental Analyst\": \"Analyze business fundamentals, financial metrics, and company performance\",\n",
    "            \"Sentiment Analyst\": \"Evaluate public perception, social media sentiment, and market psychology\",\n",
    "            \"Risk Analyst\": \"Assess potential risks, regulatory concerns, and market volatility factors\",\n",
    "            \"Industry Expert\": \"Provide sector-specific insights and competitive landscape analysis\"\n",
    "        }\n",
    "    \n",
    "    def _call_llm(self, prompt: str, max_tokens: int = 2000) -> str:\n",
    "        \"\"\"Make a call to the LLM with error handling and rate limiting\"\"\"\n",
    "        try:\n",
    "            response = self.client.chat.completions.create(\n",
    "                model=self.model,\n",
    "                messages=[{\"role\": \"user\", \"content\": prompt}],\n",
    "                max_tokens=max_tokens,\n",
    "                temperature=0.7\n",
    "            )\n",
    "            return response.choices[0].message.content.strip()\n",
    "        except Exception as e:\n",
    "            print(f\"Error calling LLM: {e}\")\n",
    "            return \"\"\n",
    "    \n",
    "    def _get_expert_analysis(self, tweet: str, company: str, expert_role: str, focus_area: str) -> ExpertAnalysis:\n",
    "\n",
    "        prompt = f\"\"\"\n",
    "You are a {expert_role} analyzing a tweet about {company}. {focus_area}.\n",
    "\n",
    "Tweet: \"{tweet}\"\n",
    "\n",
    "Please provide your analysis in the following JSON format:\n",
    "{{\n",
    "    \"analysis\": \"Your detailed analysis as a {expert_role}\",\n",
    "    \"bullish_score\": X.X,\n",
    "    \"confidence\": X.X,\n",
    "    \"key_factors\": [\"factor1\", \"factor2\", \"factor3\"]\n",
    "}}\n",
    "\n",
    "Bullish score: 0-10 scale where:\n",
    "- 0-2: Very bearish (strong negative impact on stock)\n",
    "- 3-4: Bearish (moderate negative impact)\n",
    "- 5: Neutral (no significant impact)\n",
    "- 6-7: Bullish (moderate positive impact)\n",
    "- 8-10: Very bullish (strong positive impact)\n",
    "\n",
    "Confidence: 0-1 scale representing how confident you are in your assessment. Ensure that your response conforms to the JSON format.\n",
    "\n",
    "Focus on insights specific to your role as a {expert_role}.\n",
    "\"\"\"\n",
    "        \n",
    "        response = self._call_llm(prompt, max_tokens=600)\n",
    "        \n",
    "        try:\n",
    "\n",
    "            parsed = json.loads(response)\n",
    "            return ExpertAnalysis(\n",
    "                expert_role=expert_role,\n",
    "                analysis=parsed.get(\"analysis\", \"\"),\n",
    "                bullish_score=float(parsed.get(\"bullish_score\", 5.0)),\n",
    "                confidence=float(parsed.get(\"confidence\", 0.5))\n",
    "            )\n",
    "        except (json.JSONDecodeError, ValueError) as e:\n",
    "            print(f\"Error parsing expert analysis: {e}\")\n",
    "\n",
    "            return ExpertAnalysis(\n",
    "                expert_role=expert_role,\n",
    "                analysis=response,\n",
    "                bullish_score=5.0,\n",
    "                confidence=0.3\n",
    "            )\n",
    "    \n",
    "    def _get_final_judgment(self, tweet: str, company: str, expert_analyses: List[ExpertAnalysis]) -> Dict:\n",
    "\n",
    "        expert_summaries = []\n",
    "        for analysis in expert_analyses:\n",
    "            expert_summaries.append(\n",
    "                f\"{analysis.expert_role}: {analysis.analysis} \"\n",
    "                f\"(Bullish Score: {analysis.bullish_score}/10, \"\n",
    "                f\"Confidence: {analysis.confidence:.2f})\"\n",
    "            )\n",
    "        \n",
    "        expert_text = \"\\n\\n\".join(expert_summaries)\n",
    "        \n",
    "        prompt = f\"\"\"\n",
    "You are a senior investment analyst tasked with making a final judgment on a tweet about {company}.\n",
    "\n",
    "Original Tweet: \"{tweet}\"\n",
    "\n",
    "Expert Analyses:\n",
    "{expert_text}\n",
    "\n",
    "Based on these expert perspectives, provide your final judgment in JSON format:\n",
    "{{\n",
    "    \"final_judgment\": \"BULLISH\" | \"BEARISH\" | \"NEUTRAL\",\n",
    "    \"final_bullish_score\": X.X,\n",
    "    \"reasoning\": \"Your reasoning for the final judgment\",\n",
    "    \"key_consensus_points\": [\"point1\", \"point2\"],\n",
    "    \"key_disagreement_points\": [\"point1\", \"point2\"],\n",
    "    \"time_horizon\": \"SHORT_TERM\" | \"MEDIUM_TERM\" | \"LONG_TERM\"\n",
    "}}\n",
    "\n",
    "Final bullish score: 0-10 scale (same as individual experts)\n",
    "Final judgment should be:\n",
    "- BULLISH if score > 6.5\n",
    "- BEARISH if score < 4.5  \n",
    "- NEUTRAL if score 4.5-6.5\n",
    "\n",
    "Consider the confidence levels of each expert when weighing their opinions. Ensure that your response conforms to the JSON format.\n",
    "\"\"\"\n",
    "        \n",
    "        response = self._call_llm(prompt, max_tokens=2000)\n",
    "        print(response)\n",
    "        try:\n",
    "\n",
    "            start_index = response.find('{')\n",
    "            end_index = response.rfind('}') + 1\n",
    "            if start_index != -1 and end_index != 0:\n",
    "                json_response = response[start_index:end_index]\n",
    "                return json.loads(json_response)\n",
    "            else:\n",
    "\n",
    "                raise json.JSONDecodeError(\"Could not find JSON object in response\", response, 0)\n",
    "        except json.JSONDecodeError as e:\n",
    "            print(f\"Error parsing final judgment: {e}\")\n",
    "            return {\n",
    "                \"final_judgment\": \"NEUTRAL\",\n",
    "                \"final_bullish_score\": 5.0,\n",
    "                \"reasoning\": response,\n",
    "                \"key_consensus_points\": [],\n",
    "                \"key_disagreement_points\": [],\n",
    "                \"time_horizon\": \"SHORT_TERM\"\n",
    "            }\n",
    "    \n",
    "    def analyze_tweet(self, tweet: str, company: str) -> TweetAnalysisResult:\n",
    "\n",
    "        print(f\"Analyzing tweet about {company}...\")\n",
    "        \n",
    "\n",
    "        expert_analyses = []\n",
    "        for expert_role, focus_area in self.expert_roles.items():\n",
    "            print(f\"Getting {expert_role} analysis...\")\n",
    "            analysis = self._get_expert_analysis(tweet, company, expert_role, focus_area)\n",
    "            expert_analyses.append(analysis)\n",
    "            \n",
    "\n",
    "            time.sleep(0.01)\n",
    "        \n",
    "\n",
    "        print(\"Synthesizing final judgment...\")\n",
    "        final_judgment_data = self._get_final_judgment(tweet, company, expert_analyses)\n",
    "        \n",
    "\n",
    "        result = TweetAnalysisResult(\n",
    "            tweet_text=tweet,\n",
    "            company=company,\n",
    "            expert_analyses=expert_analyses,\n",
    "            final_judgment=final_judgment_data.get(\"final_judgment\", \"NEUTRAL\"),\n",
    "            final_bullish_score=final_judgment_data.get(\"final_bullish_score\", 5.0),\n",
    "            reasoning=final_judgment_data.get(\"reasoning\", \"\")\n",
    "        )\n",
    "        \n",
    "        return result\n",
    "    \n",
    "    def print_analysis(self, result: TweetAnalysisResult):\n",
    "\n",
    "        print(\"\\n\" + \"=\"*80)\n",
    "        print(f\"TWEET ANALYSIS RESULTS - {result.company}\")\n",
    "        print(\"=\"*80)\n",
    "        print(f\"Tweet: {result.tweet_text}\")\n",
    "        print(f\"\\nFinal Judgment: {result.final_judgment}\")\n",
    "        print(f\"Bullish Score: {result.final_bullish_score}/10\")\n",
    "        print(f\"Reasoning: {result.reasoning}\")\n",
    "        \n",
    "        print(\"\\nEXPERT ANALYSES:\")\n",
    "        print(\"-\"*40)\n",
    "        for analysis in result.expert_analyses:\n",
    "            print(f\"\\n{analysis.expert_role}:\")\n",
    "            print(f\"Score: {analysis.bullish_score}/10 (Confidence: {analysis.confidence:.2f})\")\n",
    "            print(f\"Analysis: {analysis.analysis}\")\n"
   ],
   "outputs": [],
   "execution_count": null
  },
  {
   "cell_type": "code",
   "id": "40767857-7adc-4089-9063-d2f7c4737ba3",
   "metadata": {},
   "source": [
    "tweets_df = pd.read_parquet(\"stock_tweets_withsentiment_withemotion_nomerge\")\n",
    "tweets_df\n"
   ],
   "outputs": [],
   "execution_count": null
  },
  {
   "cell_type": "code",
   "id": "9ff7ef29-2694-4a38-b54a-f5ed050a0f71",
   "metadata": {},
   "source": [
    "companies_df = pd.read_parquet(\"stock_table.parquet\")\n",
    "companies_df"
   ],
   "outputs": [],
   "execution_count": null
  },
  {
   "cell_type": "code",
   "id": "318a46be-8628-4799-8398-1d95be4d93a1",
   "metadata": {},
   "source": [
    "companies_df = companies_df.rename(columns={'Symbol':'ticker'})"
   ],
   "outputs": [],
   "execution_count": null
  },
  {
   "cell_type": "code",
   "id": "12fc049c-bca1-4082-a658-2170dc664ee5",
   "metadata": {},
   "source": [
    "tweets_df = tweets_df.merge(companies_df, left_on='ticker', right_on='ticker')"
   ],
   "outputs": [],
   "execution_count": null
  },
  {
   "cell_type": "code",
   "id": "36d9c735-b00c-4910-8134-8a4431f2f1ff",
   "metadata": {
    "scrolled": true
   },
   "source": [
    "tweets_df"
   ],
   "outputs": [],
   "execution_count": null
  },
  {
   "cell_type": "code",
   "id": "d940271a-0114-48b1-a15b-e8381149b14d",
   "metadata": {},
   "source": [
    "\n",
    "def get_stance(tweet, company):\n",
    "    pipeline = TweetAnalysisPipeline(\n",
    "        api_key=\"ida_tuKXyOHU4nc5imW2YmTzTZD6NDkPpy02XrPJ2hMg\",\n",
    "        model=\"llama-3.3-70b-instruct\"\n",
    "    )\n",
    "    result = pipeline.analyze_tweet(tweet, company)\n",
    "\n",
    "    return result.final_judgment, result.final_bullish_score"
   ],
   "outputs": [],
   "execution_count": null
  },
  {
   "cell_type": "code",
   "id": "436e742d-3cd7-4bc2-b99c-b5eaeb60292e",
   "metadata": {},
   "source": [
    "tweets_test = tweets_df.head(10).copy()"
   ],
   "outputs": [],
   "execution_count": null
  },
  {
   "cell_type": "code",
   "id": "aece033e-bc1b-4ec7-a75a-6f6bc10047e0",
   "metadata": {
    "editable": true,
    "scrolled": true,
    "slideshow": {
     "slide_type": ""
    },
    "tags": []
   },
   "source": [
    "tweets_test"
   ],
   "outputs": [],
   "execution_count": null
  },
  {
   "cell_type": "code",
   "id": "02e44c99-c693-4bbc-af5e-f2b2c895d709",
   "metadata": {
    "scrolled": true
   },
   "source": [
    "\n",
    "tweets_df[['stance', 'stance_score']] = tweets_df.apply(lambda row: pd.Series(get_stance(row['text'], row['Company'])), axis=1)"
   ],
   "outputs": [],
   "execution_count": null
  },
  {
   "cell_type": "code",
   "id": "4f05da12-8040-443e-a253-a71c7b6bdc21",
   "metadata": {},
   "source": [
    "tweets_df"
   ],
   "outputs": [],
   "execution_count": null
  },
  {
   "cell_type": "code",
   "id": "d05f81e8-e87e-4fec-8615-2c53b0ccf4eb",
   "metadata": {},
   "source": [
    "tweets_df.to_parquet(\"stock_tweets_withsentiment_withemotion_withstance_nomerge\", index=False)"
   ],
   "outputs": [],
   "execution_count": null
  }
 ],
 "metadata": {
  "kernelspec": {
   "display_name": "Python [conda env:base] *",
   "language": "python",
   "name": "conda-base-py"
  },
  "language_info": {
   "codemirror_mode": {
    "name": "ipython",
    "version": 3
   },
   "file_extension": ".py",
   "mimetype": "text/x-python",
   "name": "python",
   "nbconvert_exporter": "python",
   "pygments_lexer": "ipython3",
   "version": "3.10.13"
  }
 },
 "nbformat": 4,
 "nbformat_minor": 5
}
