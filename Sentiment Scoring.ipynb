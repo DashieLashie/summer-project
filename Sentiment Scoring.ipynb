{
 "cells": [
  {
   "cell_type": "code",
   "id": "13e72613-e279-43f8-ac5d-16769f9618b3",
   "metadata": {},
   "source": [
    "import numpy as np\n",
    "import pandas as pd"
   ],
   "outputs": [],
   "execution_count": null
  },
  {
   "cell_type": "code",
   "id": "30719de9-1f3d-451e-9aa5-9bf809ae45f1",
   "metadata": {},
   "source": [
    "from transformers import AutoTokenizer\n",
    "from transformers import AutoModelForSequenceClassification"
   ],
   "outputs": [],
   "execution_count": null
  },
  {
   "cell_type": "code",
   "id": "f6448973-6afd-45d3-b79d-50b44b9a09d9",
   "metadata": {},
   "source": [
    "import torch"
   ],
   "outputs": [],
   "execution_count": null
  },
  {
   "cell_type": "code",
   "id": "5752efb6-a326-498f-8969-d53768f34be1",
   "metadata": {},
   "source": [
    "tweets = pd.read_parquet(\"stock_tweet_no_merge.parquet\")"
   ],
   "outputs": [],
   "execution_count": null
  },
  {
   "cell_type": "code",
   "id": "c0900d5c-8cd0-4ee1-bbeb-b0d3dea8064a",
   "metadata": {},
   "source": [
    "tweets"
   ],
   "outputs": [],
   "execution_count": null
  },
  {
   "cell_type": "code",
   "id": "842e126d-735a-4c44-8259-9cae54c5db62",
   "metadata": {},
   "source": [
    "tweets.shape"
   ],
   "outputs": [],
   "execution_count": null
  },
  {
   "cell_type": "code",
   "id": "775a86d3-7db2-4d9b-a2b3-fe3d9b286bea",
   "metadata": {},
   "source": [
    "tokenizer = AutoTokenizer.from_pretrained('nlptown/bert-base-multilingual-uncased-sentiment')\n",
    "bert_model = AutoModelForSequenceClassification.from_pretrained('nlptown/bert-base-multilingual-uncased-sentiment')"
   ],
   "outputs": [],
   "execution_count": null
  },
  {
   "cell_type": "code",
   "id": "03945691-0073-448b-8024-a9d8e2a0556f",
   "metadata": {},
   "source": [
    "device = torch.device(\"cuda\")\n",
    "bert_model = bert_model.to(device)"
   ],
   "outputs": [],
   "execution_count": null
  },
  {
   "cell_type": "code",
   "id": "6b795957-8cca-4e54-af52-83d7dad6f51e",
   "metadata": {},
   "source": [
    "torch.cuda.is_available()\n",
    "print(next(bert_model.parameters()).device)"
   ],
   "outputs": [],
   "execution_count": null
  },
  {
   "cell_type": "code",
   "id": "20e204af-7005-4b60-9875-c911d0a32af1",
   "metadata": {},
   "source": [
    "def cal_sentiment_score(text):\n",
    "    inputs = tokenizer.encode(text, return_tensors='pt', truncation=True, max_length=512).to(device)\n",
    "    \n",
    "    with torch.no_grad():\n",
    "        outputs = bert_model(inputs)\n",
    "    \n",
    "    sentiment = int(torch.argmax(outputs.logits)) + 1\n",
    "    return sentiment"
   ],
   "outputs": [],
   "execution_count": null
  },
  {
   "cell_type": "code",
   "id": "af0665e0-29fb-4c4f-a2aa-2a2cb539a8fb",
   "metadata": {},
   "source": [
    "tweets['sentiment'] = tweets['text'].apply(cal_sentiment_score)"
   ],
   "outputs": [],
   "execution_count": null
  },
  {
   "cell_type": "code",
   "id": "cfe2c132-dbe2-40ee-aaa7-bbfed72f2993",
   "metadata": {},
   "source": [
    "tweets"
   ],
   "outputs": [],
   "execution_count": null
  },
  {
   "cell_type": "code",
   "id": "eef40e05-c153-4fe8-aa5e-d4a0b7b4161a",
   "metadata": {},
   "source": [
    "tweets.to_parquet('stock_tweets_withsentiment_nomerge',index=False)"
   ],
   "outputs": [],
   "execution_count": null
  }
 ],
 "metadata": {
  "kernelspec": {
   "display_name": "Python [conda env:base] *",
   "language": "python",
   "name": "conda-base-py"
  },
  "language_info": {
   "codemirror_mode": {
    "name": "ipython",
    "version": 3
   },
   "file_extension": ".py",
   "mimetype": "text/x-python",
   "name": "python",
   "nbconvert_exporter": "python",
   "pygments_lexer": "ipython3",
   "version": "3.10.13"
  }
 },
 "nbformat": 4,
 "nbformat_minor": 5
}
